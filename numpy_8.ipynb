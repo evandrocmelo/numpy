{
 "cells": [
  {
   "cell_type": "code",
   "execution_count": 1,
   "metadata": {},
   "outputs": [
    {
     "data": {
      "text/plain": [
       "array([ 2,  4,  6,  8, 10, 12, 14, 16, 18, 20])"
      ]
     },
     "execution_count": 1,
     "metadata": {},
     "output_type": "execute_result"
    }
   ],
   "source": [
    "import numpy as np\n",
    "np.array([x for x in range(2, 21, 2)])"
   ]
  },
  {
   "cell_type": "code",
   "execution_count": 6,
   "metadata": {},
   "outputs": [
    {
     "name": "stdout",
     "output_type": "stream",
     "text": [
      "[6.  7.5 8.  0.  1. ] \n",
      "\n",
      "[[1 2 3 4]\n",
      " [5 6 7 8]]\n"
     ]
    }
   ],
   "source": [
    "data1 = [6, 7.5, 8, 0, 1]\n",
    "arr1 = np.array(data1)\n",
    "print(arr1,'\\n')\n",
    "\n",
    "data2 = [[1, 2, 3, 4], [5, 6, 7, 8]]\n",
    "arr2 = np.array(data2)\n",
    "print (arr2)"
   ]
  },
  {
   "cell_type": "code",
   "execution_count": 14,
   "metadata": {},
   "outputs": [
    {
     "name": "stdout",
     "output_type": "stream",
     "text": [
      "2 \n",
      "\n",
      "(2, 4) \n",
      "\n",
      "int32 \n",
      "\n",
      "[[[1.01855798e-312 1.06099790e-312]\n",
      "  [1.01855798e-312 9.54898106e-313]\n",
      "  [1.06099790e-312 1.03977794e-312]]\n",
      "\n",
      " [[1.23075756e-312 1.01855798e-312]\n",
      "  [1.10343781e-312 9.76118064e-313]\n",
      "  [1.16709769e-312 1.90979621e-312]]]\n"
     ]
    }
   ],
   "source": [
    "# numero de elementos del array\n",
    "ne = arr2.ndim \n",
    "print (ne,'\\n')\n",
    "# tamaño del array\n",
    "tam = arr2.shape\n",
    "print (tam,'\\n')\n",
    "# tipo del array\n",
    "tipo = arr2.dtype\n",
    "print (tipo,'\\n')\n",
    "# crear un array vacío\n",
    "arr_vacio= np.empty ((2,3,2))\n",
    "print (arr_vacio)"
   ]
  },
  {
   "cell_type": "code",
   "execution_count": 1,
   "metadata": {},
   "outputs": [
    {
     "name": "stdout",
     "output_type": "stream",
     "text": [
      "[12 12 12]\n"
     ]
    }
   ],
   "source": [
    "# rebanar un array\n",
    "import numpy as np\n",
    "vector = np.array([ 0, 1, 2, 3, 4, 12, 12, 12, 8, 9])\n",
    "rebanada_vector = vector [5:8]\n",
    "print (rebanada_vector)"
   ]
  },
  {
   "cell_type": "code",
   "execution_count": 11,
   "metadata": {},
   "outputs": [
    {
     "name": "stdout",
     "output_type": "stream",
     "text": [
      "[[ 0  1  2  3  4]\n",
      " [ 5  6  7  8  9]\n",
      " [10 11 12 13 14]] \n",
      "\n",
      "[[ 0  5 10]\n",
      " [ 1  6 11]\n",
      " [ 2  7 12]\n",
      " [ 3  8 13]\n",
      " [ 4  9 14]]\n"
     ]
    }
   ],
   "source": [
    "# Transposición de matrices \n",
    "matriz = np.arange(15).reshape((3, 5))\n",
    "# 3 filas con 5 columnas\n",
    "print (matriz,'\\n')\n",
    "matriz_t = matriz.T\n",
    "print (matriz_t)"
   ]
  },
  {
   "cell_type": "code",
   "execution_count": 12,
   "metadata": {},
   "outputs": [
    {
     "name": "stdout",
     "output_type": "stream",
     "text": [
      "[[-0.99432075  0.21971841  0.26949228]\n",
      " [ 0.21087412 -0.09130436 -1.63828065]\n",
      " [-0.75466134  0.49297376 -0.25547996]\n",
      " [-1.16037725  0.07085668  0.79416343]\n",
      " [-1.94319906  0.24796555 -0.55319443]\n",
      " [-1.24738373  0.6891078   0.34703197]] \n",
      "\n",
      "[[-0.99432075  0.21087412 -0.75466134 -1.16037725 -1.94319906 -1.24738373]\n",
      " [ 0.21971841 -0.09130436  0.49297376  0.07085668  0.24796555  0.6891078 ]\n",
      " [ 0.26949228 -1.63828065 -0.25547996  0.79416343 -0.55319443  0.34703197]]\n"
     ]
    }
   ],
   "source": [
    "# Transposición de matrices \n",
    "matriz = np.random.randn(6, 3)\n",
    "print (matriz,'\\n')\n",
    "matriz_t = np.transpose(matriz)\n",
    "print (matriz_t)"
   ]
  },
  {
   "cell_type": "code",
   "execution_count": 69,
   "metadata": {},
   "outputs": [
    {
     "name": "stdout",
     "output_type": "stream",
     "text": [
      "aa =  [[0.   0.25 0.5  0.75 1.  ]\n",
      " [0.   0.25 0.5  0.75 1.  ]\n",
      " [0.   0.25 0.5  0.75 1.  ]]\n",
      "bb =  [[0.  0.  0.  0.  0. ]\n",
      " [0.5 0.5 0.5 0.5 0.5]\n",
      " [1.  1.  1.  1.  1. ]]\n"
     ]
    }
   ],
   "source": [
    "# Meshgrid\n",
    "\n",
    "# Es la función que crea una cuadrícula rectangular a partir de 2 matrices unidimensionales, \n",
    "# que denotan la indexación matricial o cartesiana. Pertenence al módulo numpy. \n",
    "# Las matrices de coordenadas se devuelven a partir de los vectores de coordenadas.\n",
    "\n",
    "import numpy as np\n",
    "n1, n2 = (5, 3)\n",
    "a = np.linspace(0, 1, n1)\n",
    "b = np.linspace(0, 1, n2)\n",
    "aa, bb = np.meshgrid(a, b)\n",
    "print('aa = ', aa)\n",
    "print('bb = ', bb)"
   ]
  },
  {
   "cell_type": "code",
   "execution_count": 32,
   "metadata": {},
   "outputs": [
    {
     "name": "stdout",
     "output_type": "stream",
     "text": [
      "x = \n",
      "[[-5.   -4.99 -4.98 ...  4.97  4.98  4.99]\n",
      " [-5.   -4.99 -4.98 ...  4.97  4.98  4.99]\n",
      " [-5.   -4.99 -4.98 ...  4.97  4.98  4.99]\n",
      " ...\n",
      " [-5.   -4.99 -4.98 ...  4.97  4.98  4.99]\n",
      " [-5.   -4.99 -4.98 ...  4.97  4.98  4.99]\n",
      " [-5.   -4.99 -4.98 ...  4.97  4.98  4.99]]\n",
      "y = \n",
      "[[-5.   -5.   -5.   ... -5.   -5.   -5.  ]\n",
      " [-4.99 -4.99 -4.99 ... -4.99 -4.99 -4.99]\n",
      " [-4.98 -4.98 -4.98 ... -4.98 -4.98 -4.98]\n",
      " ...\n",
      " [ 4.97  4.97  4.97 ...  4.97  4.97  4.97]\n",
      " [ 4.98  4.98  4.98 ...  4.98  4.98  4.98]\n",
      " [ 4.99  4.99  4.99 ...  4.99  4.99  4.99]]\n",
      "z = \n",
      "[[7.07106781 7.06400028 7.05693985 ... 7.04988652 7.05693985 7.06400028]\n",
      " [7.06400028 7.05692568 7.04985815 ... 7.04279774 7.04985815 7.05692568]\n",
      " [7.05693985 7.04985815 7.04278354 ... 7.03571603 7.04278354 7.04985815]\n",
      " ...\n",
      " [7.04988652 7.04279774 7.03571603 ... 7.0286414  7.03571603 7.04279774]\n",
      " [7.05693985 7.04985815 7.04278354 ... 7.03571603 7.04278354 7.04985815]\n",
      " [7.06400028 7.05692568 7.04985815 ... 7.04279774 7.04985815 7.05692568]]\n"
     ]
    }
   ],
   "source": [
    "# programando con matrices\n",
    "\n",
    "# 1000 puntos igualmente espaciados\n",
    "puntos = np.arange(-5, 5, 0.01) \n",
    "\n",
    "x, y = np.meshgrid(puntos, puntos)\n",
    "print(\"x = \")\n",
    "print (x)\n",
    "print(\"y = \")\n",
    "print (y)\n",
    "\n",
    "z = np.sqrt(x ** 2 + y ** 2)\n",
    "print(\"z = \")\n",
    "print (z)"
   ]
  },
  {
   "cell_type": "code",
   "execution_count": 24,
   "metadata": {},
   "outputs": [
    {
     "name": "stdout",
     "output_type": "stream",
     "text": [
      "x_1 = \n",
      "[[-4. -3. -2. -1.  0.  1.  2.  3.  4.]\n",
      " [-4. -3. -2. -1.  0.  1.  2.  3.  4.]\n",
      " [-4. -3. -2. -1.  0.  1.  2.  3.  4.]\n",
      " [-4. -3. -2. -1.  0.  1.  2.  3.  4.]\n",
      " [-4. -3. -2. -1.  0.  1.  2.  3.  4.]\n",
      " [-4. -3. -2. -1.  0.  1.  2.  3.  4.]\n",
      " [-4. -3. -2. -1.  0.  1.  2.  3.  4.]\n",
      " [-4. -3. -2. -1.  0.  1.  2.  3.  4.]\n",
      " [-4. -3. -2. -1.  0.  1.  2.  3.  4.]\n",
      " [-4. -3. -2. -1.  0.  1.  2.  3.  4.]\n",
      " [-4. -3. -2. -1.  0.  1.  2.  3.  4.]]\n",
      "y_1 = \n",
      "[[-5. -5. -5. -5. -5. -5. -5. -5. -5.]\n",
      " [-4. -4. -4. -4. -4. -4. -4. -4. -4.]\n",
      " [-3. -3. -3. -3. -3. -3. -3. -3. -3.]\n",
      " [-2. -2. -2. -2. -2. -2. -2. -2. -2.]\n",
      " [-1. -1. -1. -1. -1. -1. -1. -1. -1.]\n",
      " [ 0.  0.  0.  0.  0.  0.  0.  0.  0.]\n",
      " [ 1.  1.  1.  1.  1.  1.  1.  1.  1.]\n",
      " [ 2.  2.  2.  2.  2.  2.  2.  2.  2.]\n",
      " [ 3.  3.  3.  3.  3.  3.  3.  3.  3.]\n",
      " [ 4.  4.  4.  4.  4.  4.  4.  4.  4.]\n",
      " [ 5.  5.  5.  5.  5.  5.  5.  5.  5.]]\n"
     ]
    }
   ],
   "source": [
    "# Código para generar  una figura\n",
    "x = np.linspace(-4, 4, 9)\n",
    "y = np.linspace(-5, 5, 11)\n",
    " \n",
    "# La función meshgrid devuelve \n",
    "# dos matrices bidimensionales\n",
    "x_1, y_1 = np.meshgrid(x, y)\n",
    " \n",
    "print(\"x_1 = \")\n",
    "print(x_1)\n",
    "print(\"y_1 = \")\n",
    "print(y_1)"
   ]
  },
  {
   "cell_type": "code",
   "execution_count": 36,
   "metadata": {},
   "outputs": [
    {
     "name": "stdout",
     "output_type": "stream",
     "text": [
      "resultado = \n",
      "[1.1 2.2 1.3 1.4 2.5]\n"
     ]
    }
   ],
   "source": [
    "arr_x = np.array([1.1, 1.2, 1.3, 1.4, 1.5])\n",
    "arr_y = np.array([2.1, 2.2, 2.3, 2.4, 2.5])\n",
    "cond = np.array([True, False, True, True, False])\n",
    "resultado = np.where(cond, arr_x, arr_y)\n",
    "print('resultado = ')\n",
    "print(resultado)"
   ]
  },
  {
   "cell_type": "code",
   "execution_count": 43,
   "metadata": {},
   "outputs": [
    {
     "name": "stdout",
     "output_type": "stream",
     "text": [
      "arr= \n",
      "[[ 0.45769727  0.52756914 -1.39857437 -0.19214542]\n",
      " [ 0.46845577 -0.64642969 -1.84432371  0.4921804 ]\n",
      " [ 0.61645909 -1.09819108  0.8011581  -1.41575393]\n",
      " [-0.31540258 -0.11053938 -0.4860375  -0.18358214]]\n",
      "arr_b = \n",
      "[[ True  True False False]\n",
      " [ True False False  True]\n",
      " [ True False  True False]\n",
      " [False False False False]]\n",
      "arr_n = \n",
      "[[ 2  2 -2 -2]\n",
      " [ 2 -2 -2  2]\n",
      " [ 2 -2  2 -2]\n",
      " [-2 -2 -2 -2]]\n"
     ]
    }
   ],
   "source": [
    "# Suponer un array de datos \n",
    "# generados aleatoriamente y \n",
    "# sustituir todos los valores \n",
    "# positivos por 2 y todos los \n",
    "# valores negativos por -2. \n",
    "arr = np.random.randn(4, 4)\n",
    "print('arr= ')\n",
    "print (arr)\n",
    "# array de booleanos\n",
    "arr_b = arr > 0\n",
    "print('arr_b = ')\n",
    "print (arr_b)\n",
    "# nuevo array \n",
    "arr_n = np.where (arr > 0, 2, -2)\n",
    "print('arr_n = ')\n",
    "print (arr_n)"
   ]
  },
  {
   "cell_type": "code",
   "execution_count": null,
   "metadata": {},
   "outputs": [],
   "source": []
  },
  {
   "cell_type": "code",
   "execution_count": 70,
   "metadata": {},
   "outputs": [
    {
     "name": "stdout",
     "output_type": "stream",
     "text": [
      "arr= \n",
      "[[ 0.5524261  -1.64572697 -0.25720805 -1.85595879]\n",
      " [-0.46110184  1.2463537  -0.52735632 -1.47591786]\n",
      " [ 0.23324094  0.01210284  1.05744021  1.79460824]\n",
      " [-0.33735575 -0.17977867  0.18931428  0.13279537]\n",
      " [-0.5651362  -0.21630628  0.51638187  2.02787885]]\n",
      "     media =  0.012034782860922499\n",
      "      suma =  0.24069565721845\n",
      " media_col =  [-0.80161693 -0.30450558  0.77434806 -0.04875619  0.44070456]\n",
      "suma_filas =  [-0.57792676 -0.78335539  0.97857199  0.62340581]\n"
     ]
    }
   ],
   "source": [
    "# Mathematical and Statistical Methods\n",
    "arr = np.random.randn(5, 4)\n",
    "print('arr= ')\n",
    "print (arr)\n",
    "media = arr.mean()\n",
    "suma  = arr.sum()\n",
    "print ('     media = ', media) \n",
    "print ('      suma = ', suma)\n",
    "\n",
    "media_col = arr.mean(axis=1)\n",
    "# significa \"calcular la media a través de las columnas\" . axis=1\n",
    "suma_filas = arr.sum(axis=0)\n",
    "# significa \"calcular la suma en las filas\". axis=0\n",
    "print (' media_col = ', media_col)\n",
    "print ('suma_filas = ', suma_filas)"
   ]
  },
  {
   "cell_type": "code",
   "execution_count": 72,
   "metadata": {},
   "outputs": [
    {
     "name": "stdout",
     "output_type": "stream",
     "text": [
      "arr= \n",
      "[[0 1 2]\n",
      " [3 4 5]\n",
      " [6 7 8]]\n",
      "arr.cumsum= \n",
      "[[ 0  1  2]\n",
      " [ 3  5  7]\n",
      " [ 9 12 15]]\n",
      "arr.cumprod= \n",
      "[[  0   0   0]\n",
      " [  3  12  60]\n",
      " [  6  42 336]]\n"
     ]
    }
   ],
   "source": [
    "arr = np.array([[0, 1, 2], [3, 4, 5], [6, 7, 8]])\n",
    "print('arr= ')\n",
    "print (arr)\n",
    "print('arr.cumsum= ')\n",
    "print (arr.cumsum (axis=0))\n",
    "print('arr.cumprod= ')\n",
    "print (arr.cumprod(axis=1))"
   ]
  },
  {
   "cell_type": "code",
   "execution_count": 88,
   "metadata": {},
   "outputs": [
    {
     "name": "stdout",
     "output_type": "stream",
     "text": [
      "arr = \n",
      "[-0.51469667 -1.07820686  0.3170031  -0.868678    0.74441081 -0.11843787]\n",
      "arr_ord = \n",
      "[-1.07820686 -0.868678   -0.51469667 -0.11843787  0.3170031   0.74441081]\n",
      "arr = \n",
      "[[ 0.8923967  -1.54506691  0.20978315]\n",
      " [ 0.60209997 -1.55358583 -0.5236397 ]\n",
      " [ 0.25918586  0.13702275  0.41452626]\n",
      " [-0.85139887  1.68846228  0.16217555]\n",
      " [-1.40881694 -1.2951023   0.21506767]]\n",
      "arr_ord = \n",
      "[[-1.54506691  0.20978315  0.8923967 ]\n",
      " [-1.55358583 -0.5236397   0.60209997]\n",
      " [ 0.13702275  0.25918586  0.41452626]\n",
      " [-0.85139887  0.16217555  1.68846228]\n",
      " [-1.40881694 -1.2951023   0.21506767]]\n"
     ]
    }
   ],
   "source": [
    "arr = np.random.randn(6)\n",
    "print('arr = ')\n",
    "print (arr)\n",
    "arr_ord = np.sort(arr)\n",
    "print('arr_ord = ')\n",
    "print (arr_ord)\n",
    "arr = np.random.randn(5, 3)\n",
    "print('arr = ')\n",
    "print (arr)\n",
    "arr_ord = np.sort(arr)\n",
    "print('arr_ord = ')\n",
    "print (arr_ord)"
   ]
  },
  {
   "cell_type": "code",
   "execution_count": 93,
   "metadata": {},
   "outputs": [
    {
     "name": "stdout",
     "output_type": "stream",
     "text": [
      "El array ordenado es:\n",
      "[[ 5 11 12]\n",
      " [ 6 10 15]\n",
      " [ 8 10 12]\n",
      " [ 8 12 15]\n",
      " [34 78 90]]\n"
     ]
    }
   ],
   "source": [
    "import numpy as np \n",
    "   \n",
    "a = np.array([[11, 12, 5], \n",
    "              [15, 6,10], \n",
    "              [10, 8, 12], \n",
    "              [12,15,8], \n",
    "              [34, 78, 90]]) \n",
    "\n",
    "sorted_array = np.sort(a) \n",
    "print('El array ordenado es:')\n",
    "print(sorted_array) "
   ]
  },
  {
   "cell_type": "code",
   "execution_count": 95,
   "metadata": {},
   "outputs": [
    {
     "name": "stdout",
     "output_type": "stream",
     "text": [
      "El array ordenado es:\n",
      "[ 5  6  8  8 10 10 11 12 12 12 15 15 34 78 90]\n"
     ]
    }
   ],
   "source": [
    "import numpy as np \n",
    "   \n",
    "a = np.array([[11, 12, 5], [15, 6,10], [10, 8, 12], [12,15,8], [34, 78, 90]]) \n",
    "\n",
    "sorted_array = np.sort(a, axis= None) \n",
    "print('El array ordenado es:')\n",
    "print(sorted_array) "
   ]
  },
  {
   "cell_type": "code",
   "execution_count": 97,
   "metadata": {},
   "outputs": [
    {
     "name": "stdout",
     "output_type": "stream",
     "text": [
      "El array original es:\n",
      "[[11 12  5]\n",
      " [15  6 10]\n",
      " [10  8 12]\n",
      " [12 15  8]]\n",
      "El array ordenado es:\n",
      "[[10  6  5]\n",
      " [11  8  8]\n",
      " [12 12 10]\n",
      " [15 15 12]]\n"
     ]
    }
   ],
   "source": [
    "import numpy as np \n",
    "a = np.array([[11, 12, 5], [15, 6,10], [10, 8, 12], [12,15,8]]) \n",
    "print('El array original es:')\n",
    "print(a) \n",
    "sorted_array = np.sort(a, axis= 0) \n",
    "print('El array ordenado es:')\n",
    "print(sorted_array) "
   ]
  }
 ],
 "metadata": {
  "interpreter": {
   "hash": "ba061f94e715235624f0d3268a2e99c2ff484f95c278bda1be62efbbf9ebcf06"
  },
  "kernelspec": {
   "display_name": "Python 3 (ipykernel)",
   "language": "python",
   "name": "python3"
  },
  "language_info": {
   "codemirror_mode": {
    "name": "ipython",
    "version": 3
   },
   "file_extension": ".py",
   "mimetype": "text/x-python",
   "name": "python",
   "nbconvert_exporter": "python",
   "pygments_lexer": "ipython3",
   "version": "3.10.2"
  }
 },
 "nbformat": 4,
 "nbformat_minor": 2
}
