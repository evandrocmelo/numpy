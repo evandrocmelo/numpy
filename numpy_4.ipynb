{
 "cells": [
  {
   "cell_type": "code",
   "execution_count": 15,
   "id": "d45f715b",
   "metadata": {},
   "outputs": [
    {
     "name": "stdout",
     "output_type": "stream",
     "text": [
      "names \n",
      " ['Bob' 'Joe' 'Will' 'Bob' 'Will' 'Joe' 'Joe']\n"
     ]
    },
    {
     "data": {
      "text/plain": [
       "array([ True, False, False,  True, False, False, False])"
      ]
     },
     "execution_count": 15,
     "metadata": {},
     "output_type": "execute_result"
    }
   ],
   "source": [
    "import numpy as np\n",
    "names = np.array(['Bob', 'Joe', 'Will', 'Bob', 'Will', 'Joe', 'Joe'])\n",
    "print ('names \\n', names)\n",
    "names == 'Bob'"
   ]
  },
  {
   "cell_type": "code",
   "execution_count": 21,
   "id": "e52a6bf6",
   "metadata": {},
   "outputs": [
    {
     "name": "stdout",
     "output_type": "stream",
     "text": [
      "data \n",
      " [[-1.30235616  0.23123907  0.20075285 -0.40903462]\n",
      " [-0.73581305  1.60629578 -0.14694842 -1.56527475]\n",
      " [-0.10196571  0.33013397  0.216767   -1.64594304]\n",
      " [-0.11732481  0.39931432  1.2858626   0.30679956]\n",
      " [ 0.04431086  0.29819362  0.40097879  0.62672416]\n",
      " [-0.91596511 -1.14547615  1.19906895 -0.27170013]\n",
      " [ 0.15043211  1.41845205  1.43667539 -0.62554215]]\n"
     ]
    }
   ],
   "source": [
    "# utilizar aquí la función 'randn' de 'numpy.random' para\n",
    "# generar algunos datos aleatorios con distribución normal:\n",
    "# \n",
    "data = np.random.randn (7, 4)\n",
    "print ('data \\n', data)"
   ]
  },
  {
   "cell_type": "code",
   "execution_count": 22,
   "id": "e538543e",
   "metadata": {},
   "outputs": [
    {
     "data": {
      "text/plain": [
       "array([[0.        , 0.23123907, 0.20075285, 0.        ],\n",
       "       [0.        , 1.60629578, 0.        , 0.        ],\n",
       "       [0.        , 0.33013397, 0.216767  , 0.        ],\n",
       "       [0.        , 0.39931432, 1.2858626 , 0.30679956],\n",
       "       [0.04431086, 0.29819362, 0.40097879, 0.62672416],\n",
       "       [0.        , 0.        , 1.19906895, 0.        ],\n",
       "       [0.15043211, 1.41845205, 1.43667539, 0.        ]])"
      ]
     },
     "execution_count": 22,
     "metadata": {},
     "output_type": "execute_result"
    }
   ],
   "source": [
    "# Poner los valores negativos de los datos a 0: \n",
    "data[data < 0] = 0\n",
    "data"
   ]
  },
  {
   "cell_type": "code",
   "execution_count": null,
   "id": "63403b1a",
   "metadata": {},
   "outputs": [],
   "source": []
  }
 ],
 "metadata": {
  "kernelspec": {
   "display_name": "Python 3 (ipykernel)",
   "language": "python",
   "name": "python3"
  },
  "language_info": {
   "codemirror_mode": {
    "name": "ipython",
    "version": 3
   },
   "file_extension": ".py",
   "mimetype": "text/x-python",
   "name": "python",
   "nbconvert_exporter": "python",
   "pygments_lexer": "ipython3",
   "version": "3.10.2"
  }
 },
 "nbformat": 4,
 "nbformat_minor": 5
}
