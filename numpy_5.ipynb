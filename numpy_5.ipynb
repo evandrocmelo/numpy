{
 "cells": [
  {
   "cell_type": "markdown",
   "id": "54ff56db",
   "metadata": {},
   "source": [
    "En el ejemplo siguiente se muestra cómo utilizar\\\n",
    "el atributo 'dtype' para generar arrays de elementos\\\n",
    "de valores enteros, flotantes y complejos:"
   ]
  },
  {
   "cell_type": "code",
   "execution_count": 5,
   "id": "3a96bfe0",
   "metadata": {},
   "outputs": [],
   "source": [
    "import numpy as np"
   ]
  },
  {
   "cell_type": "code",
   "execution_count": 6,
   "id": "16b8b20d",
   "metadata": {},
   "outputs": [
    {
     "name": "stdout",
     "output_type": "stream",
     "text": [
      "array 1 [1 2 3] \n",
      "\n",
      "array 2 [1. 2. 3.] \n",
      "\n",
      "array 3 [1.+0.j 2.+0.j 3.+0.j] \n",
      "\n"
     ]
    }
   ],
   "source": [
    "arr1 = np.array([1, 2, 3], dtype=int)\n",
    "print('array 1', arr1,'\\n')\n",
    "arr2 = np.array([1, 2, 3], dtype=float)\n",
    "print('array 2', arr2,'\\n')\n",
    "arr3 = np.array([1, 2, 3], dtype=complex)\n",
    "print('array 3', arr3,'\\n')"
   ]
  },
  {
   "cell_type": "markdown",
   "id": "70bb2fc6",
   "metadata": {},
   "source": [
    "Cálculos con arrays, el tipo de datos puede ser \\\n",
    "modificado de un tipo a otro, si lo requiere la operación. \\\n",
    "Por ejemplo, si se suman arrays de valor flotante y de valor complejo,\\\n",
    "el array resultante es un array de valor complejo"
   ]
  },
  {
   "cell_type": "code",
   "execution_count": 7,
   "id": "39045afe",
   "metadata": {},
   "outputs": [
    {
     "name": "stdout",
     "output_type": "stream",
     "text": [
      "ds:  [2.+0.j 4.+0.j 6.+0.j]\n"
     ]
    },
    {
     "data": {
      "text/plain": [
       "dtype('complex128')"
      ]
     },
     "execution_count": 7,
     "metadata": {},
     "output_type": "execute_result"
    }
   ],
   "source": [
    "d1 = np.array([1, 2, 3], dtype=float)\n",
    "d2 = np.array([1, 2, 3], dtype=complex)\n",
    "ds = d1 + d2\n",
    "print('ds: ', ds)\n",
    "ds.dtype"
   ]
  },
  {
   "cell_type": "code",
   "execution_count": 13,
   "id": "4b3b7af4",
   "metadata": {},
   "outputs": [
    {
     "name": "stdout",
     "output_type": "stream",
     "text": [
      "datos0: \n",
      " [[1 2]\n",
      " [3 4]]\n",
      "datos1: \n",
      " [[1 2 3 4]]\n",
      "datos2: \n",
      " [1 2 3 4]\n"
     ]
    }
   ],
   "source": [
    "datos0 = np.array([[1, 2], [3, 4]])\n",
    "print('datos0: \\n', datos0)\n",
    "datos1 = np.reshape(data, (1, 4))\n",
    "print('datos1: \\n', datos1)\n",
    "datos2 =  datos1.reshape(4)\n",
    "print('datos2: \\n', datos2)"
   ]
  },
  {
   "cell_type": "code",
   "execution_count": 19,
   "id": "38a59b56",
   "metadata": {},
   "outputs": [
    {
     "name": "stdout",
     "output_type": "stream",
     "text": [
      "reshape_1: \n",
      " [[1 2 3 4]]\n",
      "reshape_2: \n",
      " [1 2 3 4]\n",
      "datos: \n",
      " [[1 2]\n",
      " [3 4]]\n"
     ]
    }
   ],
   "source": [
    "datos = np.array([[1, 2], [3, 4]])\n",
    "print('reshape_1: \\n', np.reshape(datos, (1, 4)))\n",
    "print('reshape_2: \\n', np.reshape(datos, 4))\n",
    "print('datos: \\n', datos)"
   ]
  },
  {
   "cell_type": "code",
   "execution_count": 21,
   "id": "bceafbeb",
   "metadata": {},
   "outputs": [
    {
     "data": {
      "text/plain": [
       "array([[2, 4],\n",
       "       [6, 8]])"
      ]
     },
     "execution_count": 21,
     "metadata": {},
     "output_type": "execute_result"
    }
   ],
   "source": [
    "suma = np.add(datos, datos)\n",
    "suma"
   ]
  },
  {
   "cell_type": "code",
   "execution_count": 23,
   "id": "8e51b223",
   "metadata": {},
   "outputs": [
    {
     "data": {
      "text/plain": [
       "array([[ 3,  6],\n",
       "       [ 9, 12]])"
      ]
     },
     "execution_count": 23,
     "metadata": {},
     "output_type": "execute_result"
    }
   ],
   "source": [
    "resta = np.subtract(datos*4, datos)\n",
    "resta"
   ]
  },
  {
   "cell_type": "markdown",
   "id": "2f2e00c0",
   "metadata": {},
   "source": [
    "### Operaciones aritméticas\n",
    "Las operaciones aritméticas estándar\\\n",
    "con los arrays de NumPy \\\n",
    "realizan operaciones elemento a elemento.\\\n",
    "Ejemplos con arrays del mismo tamaño"
   ]
  },
  {
   "cell_type": "code",
   "execution_count": 32,
   "id": "73f4c4bb",
   "metadata": {},
   "outputs": [
    {
     "name": "stdout",
     "output_type": "stream",
     "text": [
      "x: \n",
      " [[1 2]\n",
      " [3 4]]\n",
      "y: \n",
      " [[5 6]\n",
      " [7 8]]\n"
     ]
    }
   ],
   "source": [
    "x = np.array([[1, 2], [3, 4]])\n",
    "y = np.array([[5, 6], [7, 8]])\n",
    "print ('x: \\n', x)\n",
    "print ('y: \\n', y)"
   ]
  },
  {
   "cell_type": "code",
   "execution_count": 33,
   "id": "f81e56e6",
   "metadata": {},
   "outputs": [
    {
     "name": "stdout",
     "output_type": "stream",
     "text": [
      "suma: \n",
      " [[ 6  8]\n",
      " [10 12]]\n"
     ]
    }
   ],
   "source": [
    "print('suma: \\n', x + y)"
   ]
  },
  {
   "cell_type": "code",
   "execution_count": 38,
   "id": "6ffe61c2",
   "metadata": {},
   "outputs": [
    {
     "name": "stdout",
     "output_type": "stream",
     "text": [
      "resta: \n",
      " [[4 4]\n",
      " [4 4]]\n"
     ]
    }
   ],
   "source": [
    "print('resta: \\n', y-x)"
   ]
  },
  {
   "cell_type": "code",
   "execution_count": 35,
   "id": "2d5c490d",
   "metadata": {},
   "outputs": [
    {
     "name": "stdout",
     "output_type": "stream",
     "text": [
      "multplicación: \n",
      " [[ 5 12]\n",
      " [21 32]]\n"
     ]
    }
   ],
   "source": [
    "print('multplicación: \\n', y*x)"
   ]
  },
  {
   "cell_type": "code",
   "execution_count": 37,
   "id": "f4fefba3",
   "metadata": {},
   "outputs": [
    {
     "name": "stdout",
     "output_type": "stream",
     "text": [
      "división: \n",
      " [[5.         3.        ]\n",
      " [2.33333333 2.        ]]\n"
     ]
    }
   ],
   "source": [
    "print('división: \\n', y/x)"
   ]
  },
  {
   "cell_type": "markdown",
   "id": "29c92c3b",
   "metadata": {},
   "source": [
    "En las operaciones entre escalares y arrays,\\\n",
    "el valor del escalar se aplica a cada \\\n",
    "elemento del array:"
   ]
  },
  {
   "cell_type": "code",
   "execution_count": 39,
   "id": "00fe90a9",
   "metadata": {},
   "outputs": [
    {
     "name": "stdout",
     "output_type": "stream",
     "text": [
      " mult por 2 \n",
      " [[2 4]\n",
      " [6 8]]\n"
     ]
    }
   ],
   "source": [
    "print(' mult por 2 \\n',x * 2)"
   ]
  },
  {
   "cell_type": "code",
   "execution_count": 41,
   "id": "4eebc9ed",
   "metadata": {},
   "outputs": [
    {
     "name": "stdout",
     "output_type": "stream",
     "text": [
      "2 elev a x: \n",
      " [[ 2  4]\n",
      " [ 8 16]]\n"
     ]
    }
   ],
   "source": [
    "print('2 elev a x: \\n',2 ** x)"
   ]
  },
  {
   "cell_type": "code",
   "execution_count": 43,
   "id": "ae23ecfb",
   "metadata": {},
   "outputs": [
    {
     "name": "stdout",
     "output_type": "stream",
     "text": [
      "partido por 2: \n",
      " [[2.5 3. ]\n",
      " [3.5 4. ]]\n"
     ]
    }
   ],
   "source": [
    "print('partido por 2: \\n',y / 2)"
   ]
  },
  {
   "cell_type": "code",
   "execution_count": 47,
   "id": "48a02ee8",
   "metadata": {},
   "outputs": [
    {
     "name": "stdout",
     "output_type": "stream",
     "text": [
      "x: \n",
      " [-1.  -0.8 -0.6 -0.4 -0.2  0.   0.2  0.4  0.6  0.8  1. ]\n",
      "y : \n",
      " [-0.     -0.5878 -0.9511 -0.9511 -0.5878  0.      0.5878  0.9511  0.9511\n",
      "  0.5878  0.    ]\n"
     ]
    }
   ],
   "source": [
    "x = np.linspace(-1, 1, 11)\n",
    "print('x: \\n', x)\n",
    "\n",
    "y = np.sin(np.pi * x)\n",
    "print('y : \\n', np.round(y, decimals=4))"
   ]
  },
  {
   "cell_type": "code",
   "execution_count": 51,
   "id": "f0cf9876",
   "metadata": {},
   "outputs": [
    {
     "name": "stdout",
     "output_type": "stream",
     "text": [
      "z: \n",
      " [1. 1. 1. 1. 1. 1. 1. 1. 1. 1. 1.]\n",
      "w : \n",
      " [1. 1. 1. 1. 1. 1. 1. 1. 1. 1. 1.]\n"
     ]
    }
   ],
   "source": [
    "# operaciones identicas\n",
    "z =  np.add(np.sin(x) ** 2, np.cos(x) ** 2)\n",
    "print('z: \\n',z)\n",
    "\n",
    "w = np.sin(x) ** 2 + np.cos(x) ** 2\n",
    "            \n",
    "print('w : \\n', w )"
   ]
  },
  {
   "cell_type": "code",
   "execution_count": 54,
   "id": "23ac6cc6",
   "metadata": {},
   "outputs": [
    {
     "name": "stdout",
     "output_type": "stream",
     "text": [
      "m_1: \n",
      " 0.1148553705433423\n",
      "m_2: \n",
      " 0.1148553705433423\n"
     ]
    }
   ],
   "source": [
    "# Dos formas para obtener media\n",
    "data = np.random.normal(size=(15,15))\n",
    "\n",
    "m_1  = np.mean(data)\n",
    "m_2  = data.mean()\n",
    "\n",
    "print ('m_1: \\n', m_1)\n",
    "print ('m_2: \\n', m_2)"
   ]
  },
  {
   "cell_type": "code",
   "execution_count": null,
   "id": "14391dd7",
   "metadata": {},
   "outputs": [],
   "source": []
  }
 ],
 "metadata": {
  "kernelspec": {
   "display_name": "Python 3 (ipykernel)",
   "language": "python",
   "name": "python3"
  },
  "language_info": {
   "codemirror_mode": {
    "name": "ipython",
    "version": 3
   },
   "file_extension": ".py",
   "mimetype": "text/x-python",
   "name": "python",
   "nbconvert_exporter": "python",
   "pygments_lexer": "ipython3",
   "version": "3.10.2"
  }
 },
 "nbformat": 4,
 "nbformat_minor": 5
}
